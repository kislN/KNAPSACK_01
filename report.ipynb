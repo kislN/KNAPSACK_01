{
 "cells": [
  {
   "cell_type": "code",
   "execution_count": 1,
   "outputs": [],
   "source": [
    "import pandas as pd \n",
    "import numpy as np\n",
    "\n",
    "from algorithms.branch_and_bound import branch_and_bound as bnb\n",
    "from algorithms.dynamic_programming import dynamic_programming as dynamic\n",
    "from algorithms.greedy import greedy_algorithm as greedy\n",
    "from algorithms.genetic import genetic_algorithm as genetic\n",
    "from tools.benchmark_loader import get_all_knapsacks\n",
    "from tools.test_methods import run_tests\n",
    "from tools.make_measurements import get_time"
   ],
   "metadata": {
    "collapsed": false,
    "pycharm": {
     "name": "#%%\n",
     "is_executing": false
    }
   }
  },
  {
   "cell_type": "markdown",
   "source": [
    "# Laboratory work 2\n",
    "## Knapsack 0-1 problem\n",
    "Done by *Aroslankin, Kuklin, Kislytsina*.     \n",
    "There are tests and comparisons of the 4 algorithms for knapsack 0-1 problem.    \n",
    "***Exact algorithms:***     \n",
    "* [Dynamic programming]()\n",
    "* [Branch and Bound]()   \n",
    "\n",
    "***Heuristic algorithms:***     \n",
    "* [Greedy]() \n",
    "* [Genetic algorithm]()\n",
    "  "
   ],
   "metadata": {
    "collapsed": false,
    "pycharm": {
     "name": "#%% md\n"
    }
   }
  },
  {
   "cell_type": "markdown",
   "source": [
    "### Loading of the benchmarks\n",
    "[The benchmarks source №1]()   \n",
    "[The benchmarks source №2]()"
   ],
   "metadata": {
    "collapsed": false,
    "pycharm": {
     "name": "#%% md\n"
    }
   }
  },
  {
   "cell_type": "code",
   "execution_count": 2,
   "outputs": [
    {
     "name": "stdout",
     "text": [
      "P01 is loaded!\n",
      "P02 is loaded!\n",
      "P03 is loaded!\n",
      "P04 is loaded!\n",
      "P05 is loaded!\n",
      "P06 is loaded!\n",
      "P07 is loaded!\nf9_l-d_kp_5_80 is loaded!\nf7_l-d_kp_7_50 is loaded!\nf3_l-d_kp_4_20 is loaded!\nf4_l-d_kp_4_11 is loaded!\nf10_l-d_kp_20_879 is loaded!\nf1_l-d_kp_10_269 is loaded!\nf6_l-d_kp_10_60 is loaded!\nf8_l-d_kp_23_10000 is loaded!\nf2_l-d_kp_20_878 is loaded!\nknapPI_1_5000_1000_1 is loaded!\nknapPI_2_100_1000_1 is loaded!\nknapPI_2_2000_1000_1 is loaded!\nknapPI_3_200_1000_1 is loaded!\nknapPI_1_500_1000_1 is loaded!\nknapPI_1_200_1000_1 is loaded!\nknapPI_1_10000_1000_1 is loaded!\nknapPI_1_2000_1000_1 is loaded!\nknapPI_3_1000_1000_1 is loaded!\nknapPI_2_5000_1000_1 is loaded!\nknapPI_3_500_1000_1 is loaded!\nknapPI_2_10000_1000_1 is loaded!\nknapPI_3_2000_1000_1 is loaded!\nknapPI_3_100_1000_1 is loaded!\nknapPI_1_1000_1000_1 is loaded!\nknapPI_3_10000_1000_1 is loaded!\nknapPI_2_200_1000_1 is loaded!\nknapPI_3_5000_1000_1 is loaded!\nknapPI_2_1000_1000_1 is loaded!\nknapPI_2_500_1000_1 is loaded!\nknapPI_1_100_1000_1 is loaded!\n"
     ],
     "output_type": "stream"
    }
   ],
   "source": [
    "knapsacks = get_all_knapsacks()\n",
    "for knapsack in knapsacks:\n",
    "    if knapsack['n'] != len(knapsack['weights']):\n",
    "        print(\"Knapsack's size error!\")\n",
    "        "
   ],
   "metadata": {
    "collapsed": false,
    "pycharm": {
     "name": "#%%\n",
     "is_executing": false
    }
   }
  },
  {
   "cell_type": "markdown",
   "source": [
    "### Dynamic programming algorithm\n"
   ],
   "metadata": {
    "collapsed": false,
    "pycharm": {
     "name": "#%% md\n"
    }
   }
  },
  {
   "cell_type": "markdown",
   "source": [
    "#### Testing "
   ],
   "metadata": {
    "collapsed": false,
    "pycharm": {
     "name": "#%% md\n"
    }
   }
  },
  {
   "cell_type": "code",
   "execution_count": 9,
   "outputs": [
    {
     "data": {
      "text/plain": "   Knapsack's ID Number of items Optimal profit Found profit Passed\n0              0               4             35           35   True\n1              1               4             23           23   True\n2              2               5             51           51   True\n3              3               5            130          130   True\n4              4               6            150          150   True\n5              5               7            107          107   True\n6              6               7           1735         1735   True\n7              7               7            107          107   True\n8              8               8            900          900   True\n9              9              10            309          309   True\n10            10              10            295          295   True\n11            11              10             52           52   True\n12            12              15           1458         1458   True\n13            13              20           1025         1025   True\n14            14              20           1024         1024   True\n15            15              23           9767         9767   True\n16            16             100           1514         1514   True\n17            17             100           2397         2397   True\n18            18             100           9147         9147   True\n19            19             200           2697         2697   True",
      "text/html": "<div>\n<style scoped>\n    .dataframe tbody tr th:only-of-type {\n        vertical-align: middle;\n    }\n\n    .dataframe tbody tr th {\n        vertical-align: top;\n    }\n\n    .dataframe thead th {\n        text-align: right;\n    }\n</style>\n<table border=\"1\" class=\"dataframe\">\n  <thead>\n    <tr style=\"text-align: right;\">\n      <th></th>\n      <th>Knapsack's ID</th>\n      <th>Number of items</th>\n      <th>Optimal profit</th>\n      <th>Found profit</th>\n      <th>Passed</th>\n    </tr>\n  </thead>\n  <tbody>\n    <tr>\n      <th>0</th>\n      <td>0</td>\n      <td>4</td>\n      <td>35</td>\n      <td>35</td>\n      <td>True</td>\n    </tr>\n    <tr>\n      <th>1</th>\n      <td>1</td>\n      <td>4</td>\n      <td>23</td>\n      <td>23</td>\n      <td>True</td>\n    </tr>\n    <tr>\n      <th>2</th>\n      <td>2</td>\n      <td>5</td>\n      <td>51</td>\n      <td>51</td>\n      <td>True</td>\n    </tr>\n    <tr>\n      <th>3</th>\n      <td>3</td>\n      <td>5</td>\n      <td>130</td>\n      <td>130</td>\n      <td>True</td>\n    </tr>\n    <tr>\n      <th>4</th>\n      <td>4</td>\n      <td>6</td>\n      <td>150</td>\n      <td>150</td>\n      <td>True</td>\n    </tr>\n    <tr>\n      <th>5</th>\n      <td>5</td>\n      <td>7</td>\n      <td>107</td>\n      <td>107</td>\n      <td>True</td>\n    </tr>\n    <tr>\n      <th>6</th>\n      <td>6</td>\n      <td>7</td>\n      <td>1735</td>\n      <td>1735</td>\n      <td>True</td>\n    </tr>\n    <tr>\n      <th>7</th>\n      <td>7</td>\n      <td>7</td>\n      <td>107</td>\n      <td>107</td>\n      <td>True</td>\n    </tr>\n    <tr>\n      <th>8</th>\n      <td>8</td>\n      <td>8</td>\n      <td>900</td>\n      <td>900</td>\n      <td>True</td>\n    </tr>\n    <tr>\n      <th>9</th>\n      <td>9</td>\n      <td>10</td>\n      <td>309</td>\n      <td>309</td>\n      <td>True</td>\n    </tr>\n    <tr>\n      <th>10</th>\n      <td>10</td>\n      <td>10</td>\n      <td>295</td>\n      <td>295</td>\n      <td>True</td>\n    </tr>\n    <tr>\n      <th>11</th>\n      <td>11</td>\n      <td>10</td>\n      <td>52</td>\n      <td>52</td>\n      <td>True</td>\n    </tr>\n    <tr>\n      <th>12</th>\n      <td>12</td>\n      <td>15</td>\n      <td>1458</td>\n      <td>1458</td>\n      <td>True</td>\n    </tr>\n    <tr>\n      <th>13</th>\n      <td>13</td>\n      <td>20</td>\n      <td>1025</td>\n      <td>1025</td>\n      <td>True</td>\n    </tr>\n    <tr>\n      <th>14</th>\n      <td>14</td>\n      <td>20</td>\n      <td>1024</td>\n      <td>1024</td>\n      <td>True</td>\n    </tr>\n    <tr>\n      <th>15</th>\n      <td>15</td>\n      <td>23</td>\n      <td>9767</td>\n      <td>9767</td>\n      <td>True</td>\n    </tr>\n    <tr>\n      <th>16</th>\n      <td>16</td>\n      <td>100</td>\n      <td>1514</td>\n      <td>1514</td>\n      <td>True</td>\n    </tr>\n    <tr>\n      <th>17</th>\n      <td>17</td>\n      <td>100</td>\n      <td>2397</td>\n      <td>2397</td>\n      <td>True</td>\n    </tr>\n    <tr>\n      <th>18</th>\n      <td>18</td>\n      <td>100</td>\n      <td>9147</td>\n      <td>9147</td>\n      <td>True</td>\n    </tr>\n    <tr>\n      <th>19</th>\n      <td>19</td>\n      <td>200</td>\n      <td>2697</td>\n      <td>2697</td>\n      <td>True</td>\n    </tr>\n  </tbody>\n</table>\n</div>"
     },
     "metadata": {},
     "output_type": "execute_result",
     "execution_count": 9
    }
   ],
   "source": [
    "test_dynamic = run_tests(knapsacks[:20], methods=[dynamic], lim_sec=30, file_name='test_dynamic')\n",
    "test_dynamic[[\"Knapsack's ID\", 'Number of items', 'Optimal profit', 'Found profit', 'Passed']]"
   ],
   "metadata": {
    "collapsed": false,
    "pycharm": {
     "name": "#%%\n",
     "is_executing": false
    }
   }
  },
  {
   "cell_type": "markdown",
   "source": [
    "We've tested this algorithm with 20 benchmarks. Minimal number of items for knapsack is 4, maximal number is 200 \n",
    "(Larger knapsacks and the answer of all cases will be shown below).        \n",
    "This algorithm always returns exact answer. "
   ],
   "metadata": {
    "collapsed": false,
    "pycharm": {
     "name": "#%% md\n"
    }
   }
  },
  {
   "cell_type": "markdown",
   "source": [
    "### Branch and bound algorithm\n"
   ],
   "metadata": {
    "collapsed": false,
    "pycharm": {
     "name": "#%% md\n",
     "is_executing": false
    }
   }
  },
  {
   "cell_type": "markdown",
   "source": [
    "#### Testing "
   ],
   "metadata": {
    "collapsed": false
   }
  },
  {
   "cell_type": "code",
   "execution_count": 10,
   "outputs": [
    {
     "data": {
      "text/plain": "   Knapsack's ID Number of items Optimal profit Found profit  \\\n0              0               4             35           35   \n1              1               4             23           23   \n2              2               5             51           51   \n3              3               5            130          130   \n4              4               6            150          150   \n5              5               7            107          107   \n6              6               7           1735         1735   \n7              7               7            107          107   \n8              8               8            900          900   \n9              9              10            309          309   \n10            10              10            295          295   \n11            11              10             52           52   \n12            12              15           1458         1458   \n13            13              20           1025         1025   \n14            14              20           1024         1024   \n15            15              23           9767          NaN   \n16            16             100           1514         1514   \n17            17             100           2397         2397   \n18            18             100           9147         9147   \n19            19             200           2697          NaN   \n\n                     Passed  \n0                      True  \n1                      True  \n2                      True  \n3                      True  \n4                      True  \n5                      True  \n6                      True  \n7                      True  \n8                      True  \n9                      True  \n10                     True  \n11                     True  \n12                     True  \n13                     True  \n14                     True  \n15  30 seconds have passed!  \n16                     True  \n17                     True  \n18                     True  \n19  30 seconds have passed!  ",
      "text/html": "<div>\n<style scoped>\n    .dataframe tbody tr th:only-of-type {\n        vertical-align: middle;\n    }\n\n    .dataframe tbody tr th {\n        vertical-align: top;\n    }\n\n    .dataframe thead th {\n        text-align: right;\n    }\n</style>\n<table border=\"1\" class=\"dataframe\">\n  <thead>\n    <tr style=\"text-align: right;\">\n      <th></th>\n      <th>Knapsack's ID</th>\n      <th>Number of items</th>\n      <th>Optimal profit</th>\n      <th>Found profit</th>\n      <th>Passed</th>\n    </tr>\n  </thead>\n  <tbody>\n    <tr>\n      <th>0</th>\n      <td>0</td>\n      <td>4</td>\n      <td>35</td>\n      <td>35</td>\n      <td>True</td>\n    </tr>\n    <tr>\n      <th>1</th>\n      <td>1</td>\n      <td>4</td>\n      <td>23</td>\n      <td>23</td>\n      <td>True</td>\n    </tr>\n    <tr>\n      <th>2</th>\n      <td>2</td>\n      <td>5</td>\n      <td>51</td>\n      <td>51</td>\n      <td>True</td>\n    </tr>\n    <tr>\n      <th>3</th>\n      <td>3</td>\n      <td>5</td>\n      <td>130</td>\n      <td>130</td>\n      <td>True</td>\n    </tr>\n    <tr>\n      <th>4</th>\n      <td>4</td>\n      <td>6</td>\n      <td>150</td>\n      <td>150</td>\n      <td>True</td>\n    </tr>\n    <tr>\n      <th>5</th>\n      <td>5</td>\n      <td>7</td>\n      <td>107</td>\n      <td>107</td>\n      <td>True</td>\n    </tr>\n    <tr>\n      <th>6</th>\n      <td>6</td>\n      <td>7</td>\n      <td>1735</td>\n      <td>1735</td>\n      <td>True</td>\n    </tr>\n    <tr>\n      <th>7</th>\n      <td>7</td>\n      <td>7</td>\n      <td>107</td>\n      <td>107</td>\n      <td>True</td>\n    </tr>\n    <tr>\n      <th>8</th>\n      <td>8</td>\n      <td>8</td>\n      <td>900</td>\n      <td>900</td>\n      <td>True</td>\n    </tr>\n    <tr>\n      <th>9</th>\n      <td>9</td>\n      <td>10</td>\n      <td>309</td>\n      <td>309</td>\n      <td>True</td>\n    </tr>\n    <tr>\n      <th>10</th>\n      <td>10</td>\n      <td>10</td>\n      <td>295</td>\n      <td>295</td>\n      <td>True</td>\n    </tr>\n    <tr>\n      <th>11</th>\n      <td>11</td>\n      <td>10</td>\n      <td>52</td>\n      <td>52</td>\n      <td>True</td>\n    </tr>\n    <tr>\n      <th>12</th>\n      <td>12</td>\n      <td>15</td>\n      <td>1458</td>\n      <td>1458</td>\n      <td>True</td>\n    </tr>\n    <tr>\n      <th>13</th>\n      <td>13</td>\n      <td>20</td>\n      <td>1025</td>\n      <td>1025</td>\n      <td>True</td>\n    </tr>\n    <tr>\n      <th>14</th>\n      <td>14</td>\n      <td>20</td>\n      <td>1024</td>\n      <td>1024</td>\n      <td>True</td>\n    </tr>\n    <tr>\n      <th>15</th>\n      <td>15</td>\n      <td>23</td>\n      <td>9767</td>\n      <td>NaN</td>\n      <td>30 seconds have passed!</td>\n    </tr>\n    <tr>\n      <th>16</th>\n      <td>16</td>\n      <td>100</td>\n      <td>1514</td>\n      <td>1514</td>\n      <td>True</td>\n    </tr>\n    <tr>\n      <th>17</th>\n      <td>17</td>\n      <td>100</td>\n      <td>2397</td>\n      <td>2397</td>\n      <td>True</td>\n    </tr>\n    <tr>\n      <th>18</th>\n      <td>18</td>\n      <td>100</td>\n      <td>9147</td>\n      <td>9147</td>\n      <td>True</td>\n    </tr>\n    <tr>\n      <th>19</th>\n      <td>19</td>\n      <td>200</td>\n      <td>2697</td>\n      <td>NaN</td>\n      <td>30 seconds have passed!</td>\n    </tr>\n  </tbody>\n</table>\n</div>"
     },
     "metadata": {},
     "output_type": "execute_result",
     "execution_count": 10
    }
   ],
   "source": [
    "test_bnb = run_tests(knapsacks[:20], methods=[bnb], lim_sec=30, file_name='test_bnb')\n",
    "test_bnb[[\"Knapsack's ID\", 'Number of items', 'Optimal profit', 'Found profit', 'Passed']]"
   ],
   "metadata": {
    "collapsed": false,
    "pycharm": {
     "name": "#%%\n",
     "is_executing": false
    }
   }
  },
  {
   "cell_type": "markdown",
   "source": [
    "Here we put the time limit of 30 seconds and some cases did not overcome it.     \n",
    "But we can see that this algorithm always returns correct answers too."
   ],
   "metadata": {
    "collapsed": false
   }
  },
  {
   "cell_type": "markdown",
   "source": [
    "### Greedy algorithm "
   ],
   "metadata": {
    "collapsed": false
   }
  },
  {
   "cell_type": "markdown",
   "source": [
    "#### Testing "
   ],
   "metadata": {
    "collapsed": false
   }
  },
  {
   "cell_type": "code",
   "execution_count": 11,
   "outputs": [
    {
     "data": {
      "text/plain": "   Knapsack's ID Number of items Optimal profit Found profit Passed\n0              0               4             35           35   True\n1              1               4             23           16  False\n2              2               5             51           47  False\n3              3               5            130          130   True\n4              4               6            150          146  False\n5              5               7            107          102  False\n6              6               7           1735         1478  False\n7              7               7            107          102  False\n8              8               8            900          858  False\n9              9              10            309          266  False\n10            10              10            295          294  False\n11            11              10             52           52   True\n12            12              15           1458         1441  False\n13            13              20           1025         1019  False\n14            14              20           1024         1018  False\n15            15              23           9767         9751  False\n16            16             100           1514         1487  False\n17            17             100           2397         2375  False\n18            18             100           9147         8817  False\n19            19             200           2697         2649  False",
      "text/html": "<div>\n<style scoped>\n    .dataframe tbody tr th:only-of-type {\n        vertical-align: middle;\n    }\n\n    .dataframe tbody tr th {\n        vertical-align: top;\n    }\n\n    .dataframe thead th {\n        text-align: right;\n    }\n</style>\n<table border=\"1\" class=\"dataframe\">\n  <thead>\n    <tr style=\"text-align: right;\">\n      <th></th>\n      <th>Knapsack's ID</th>\n      <th>Number of items</th>\n      <th>Optimal profit</th>\n      <th>Found profit</th>\n      <th>Passed</th>\n    </tr>\n  </thead>\n  <tbody>\n    <tr>\n      <th>0</th>\n      <td>0</td>\n      <td>4</td>\n      <td>35</td>\n      <td>35</td>\n      <td>True</td>\n    </tr>\n    <tr>\n      <th>1</th>\n      <td>1</td>\n      <td>4</td>\n      <td>23</td>\n      <td>16</td>\n      <td>False</td>\n    </tr>\n    <tr>\n      <th>2</th>\n      <td>2</td>\n      <td>5</td>\n      <td>51</td>\n      <td>47</td>\n      <td>False</td>\n    </tr>\n    <tr>\n      <th>3</th>\n      <td>3</td>\n      <td>5</td>\n      <td>130</td>\n      <td>130</td>\n      <td>True</td>\n    </tr>\n    <tr>\n      <th>4</th>\n      <td>4</td>\n      <td>6</td>\n      <td>150</td>\n      <td>146</td>\n      <td>False</td>\n    </tr>\n    <tr>\n      <th>5</th>\n      <td>5</td>\n      <td>7</td>\n      <td>107</td>\n      <td>102</td>\n      <td>False</td>\n    </tr>\n    <tr>\n      <th>6</th>\n      <td>6</td>\n      <td>7</td>\n      <td>1735</td>\n      <td>1478</td>\n      <td>False</td>\n    </tr>\n    <tr>\n      <th>7</th>\n      <td>7</td>\n      <td>7</td>\n      <td>107</td>\n      <td>102</td>\n      <td>False</td>\n    </tr>\n    <tr>\n      <th>8</th>\n      <td>8</td>\n      <td>8</td>\n      <td>900</td>\n      <td>858</td>\n      <td>False</td>\n    </tr>\n    <tr>\n      <th>9</th>\n      <td>9</td>\n      <td>10</td>\n      <td>309</td>\n      <td>266</td>\n      <td>False</td>\n    </tr>\n    <tr>\n      <th>10</th>\n      <td>10</td>\n      <td>10</td>\n      <td>295</td>\n      <td>294</td>\n      <td>False</td>\n    </tr>\n    <tr>\n      <th>11</th>\n      <td>11</td>\n      <td>10</td>\n      <td>52</td>\n      <td>52</td>\n      <td>True</td>\n    </tr>\n    <tr>\n      <th>12</th>\n      <td>12</td>\n      <td>15</td>\n      <td>1458</td>\n      <td>1441</td>\n      <td>False</td>\n    </tr>\n    <tr>\n      <th>13</th>\n      <td>13</td>\n      <td>20</td>\n      <td>1025</td>\n      <td>1019</td>\n      <td>False</td>\n    </tr>\n    <tr>\n      <th>14</th>\n      <td>14</td>\n      <td>20</td>\n      <td>1024</td>\n      <td>1018</td>\n      <td>False</td>\n    </tr>\n    <tr>\n      <th>15</th>\n      <td>15</td>\n      <td>23</td>\n      <td>9767</td>\n      <td>9751</td>\n      <td>False</td>\n    </tr>\n    <tr>\n      <th>16</th>\n      <td>16</td>\n      <td>100</td>\n      <td>1514</td>\n      <td>1487</td>\n      <td>False</td>\n    </tr>\n    <tr>\n      <th>17</th>\n      <td>17</td>\n      <td>100</td>\n      <td>2397</td>\n      <td>2375</td>\n      <td>False</td>\n    </tr>\n    <tr>\n      <th>18</th>\n      <td>18</td>\n      <td>100</td>\n      <td>9147</td>\n      <td>8817</td>\n      <td>False</td>\n    </tr>\n    <tr>\n      <th>19</th>\n      <td>19</td>\n      <td>200</td>\n      <td>2697</td>\n      <td>2649</td>\n      <td>False</td>\n    </tr>\n  </tbody>\n</table>\n</div>"
     },
     "metadata": {},
     "output_type": "execute_result",
     "execution_count": 11
    }
   ],
   "source": [
    "test_greedy = run_tests(knapsacks[:20], methods=[greedy], lim_sec=30, file_name='test_greedy')\n",
    "test_greedy[[\"Knapsack's ID\", 'Number of items', 'Optimal profit', 'Found profit', 'Passed']]"
   ],
   "metadata": {
    "collapsed": false,
    "pycharm": {
     "name": "#%%\n",
     "is_executing": false
    }
   }
  },
  {
   "cell_type": "markdown",
   "source": [
    "Greedy is the heuristic algorithm that is why sometimes it returns approximate answers.     \n",
    "Here Greedy returned just 3 exact answers out of 20. The other found optimal profits are close to right solutions."
   ],
   "metadata": {
    "collapsed": false
   }
  },
  {
   "cell_type": "markdown",
   "source": [
    "### Genetic algorithm "
   ],
   "metadata": {
    "collapsed": false
   }
  },
  {
   "cell_type": "markdown",
   "source": [
    "#### Testing "
   ],
   "metadata": {
    "collapsed": false
   }
  },
  {
   "cell_type": "code",
   "execution_count": 12,
   "outputs": [
    {
     "data": {
      "text/plain": "   Knapsack's ID Number of items Optimal profit Found profit Passed\n0              0               4             35           35   True\n1              1               4             23           23   True\n2              2               5             51           51   True\n3              3               5            130          130   True\n4              4               6            150          150   True\n5              5               7            107          107   True\n6              6               7           1735         1735   True\n7              7               7            107          107   True\n8              8               8            900          900   True\n9              9              10            309          284  False\n10            10              10            295          293  False\n11            11              10             52           52   True\n12            12              15           1458         1446  False\n13            13              20           1025         1025   True\n14            14              20           1024         1024   True\n15            15              23           9767         9765  False\n16            16             100           1514         1514   True\n17            17             100           2397         2295  False\n18            18             100           9147         9147   True\n19            19             200           2697         2596  False",
      "text/html": "<div>\n<style scoped>\n    .dataframe tbody tr th:only-of-type {\n        vertical-align: middle;\n    }\n\n    .dataframe tbody tr th {\n        vertical-align: top;\n    }\n\n    .dataframe thead th {\n        text-align: right;\n    }\n</style>\n<table border=\"1\" class=\"dataframe\">\n  <thead>\n    <tr style=\"text-align: right;\">\n      <th></th>\n      <th>Knapsack's ID</th>\n      <th>Number of items</th>\n      <th>Optimal profit</th>\n      <th>Found profit</th>\n      <th>Passed</th>\n    </tr>\n  </thead>\n  <tbody>\n    <tr>\n      <th>0</th>\n      <td>0</td>\n      <td>4</td>\n      <td>35</td>\n      <td>35</td>\n      <td>True</td>\n    </tr>\n    <tr>\n      <th>1</th>\n      <td>1</td>\n      <td>4</td>\n      <td>23</td>\n      <td>23</td>\n      <td>True</td>\n    </tr>\n    <tr>\n      <th>2</th>\n      <td>2</td>\n      <td>5</td>\n      <td>51</td>\n      <td>51</td>\n      <td>True</td>\n    </tr>\n    <tr>\n      <th>3</th>\n      <td>3</td>\n      <td>5</td>\n      <td>130</td>\n      <td>130</td>\n      <td>True</td>\n    </tr>\n    <tr>\n      <th>4</th>\n      <td>4</td>\n      <td>6</td>\n      <td>150</td>\n      <td>150</td>\n      <td>True</td>\n    </tr>\n    <tr>\n      <th>5</th>\n      <td>5</td>\n      <td>7</td>\n      <td>107</td>\n      <td>107</td>\n      <td>True</td>\n    </tr>\n    <tr>\n      <th>6</th>\n      <td>6</td>\n      <td>7</td>\n      <td>1735</td>\n      <td>1735</td>\n      <td>True</td>\n    </tr>\n    <tr>\n      <th>7</th>\n      <td>7</td>\n      <td>7</td>\n      <td>107</td>\n      <td>107</td>\n      <td>True</td>\n    </tr>\n    <tr>\n      <th>8</th>\n      <td>8</td>\n      <td>8</td>\n      <td>900</td>\n      <td>900</td>\n      <td>True</td>\n    </tr>\n    <tr>\n      <th>9</th>\n      <td>9</td>\n      <td>10</td>\n      <td>309</td>\n      <td>284</td>\n      <td>False</td>\n    </tr>\n    <tr>\n      <th>10</th>\n      <td>10</td>\n      <td>10</td>\n      <td>295</td>\n      <td>293</td>\n      <td>False</td>\n    </tr>\n    <tr>\n      <th>11</th>\n      <td>11</td>\n      <td>10</td>\n      <td>52</td>\n      <td>52</td>\n      <td>True</td>\n    </tr>\n    <tr>\n      <th>12</th>\n      <td>12</td>\n      <td>15</td>\n      <td>1458</td>\n      <td>1446</td>\n      <td>False</td>\n    </tr>\n    <tr>\n      <th>13</th>\n      <td>13</td>\n      <td>20</td>\n      <td>1025</td>\n      <td>1025</td>\n      <td>True</td>\n    </tr>\n    <tr>\n      <th>14</th>\n      <td>14</td>\n      <td>20</td>\n      <td>1024</td>\n      <td>1024</td>\n      <td>True</td>\n    </tr>\n    <tr>\n      <th>15</th>\n      <td>15</td>\n      <td>23</td>\n      <td>9767</td>\n      <td>9765</td>\n      <td>False</td>\n    </tr>\n    <tr>\n      <th>16</th>\n      <td>16</td>\n      <td>100</td>\n      <td>1514</td>\n      <td>1514</td>\n      <td>True</td>\n    </tr>\n    <tr>\n      <th>17</th>\n      <td>17</td>\n      <td>100</td>\n      <td>2397</td>\n      <td>2295</td>\n      <td>False</td>\n    </tr>\n    <tr>\n      <th>18</th>\n      <td>18</td>\n      <td>100</td>\n      <td>9147</td>\n      <td>9147</td>\n      <td>True</td>\n    </tr>\n    <tr>\n      <th>19</th>\n      <td>19</td>\n      <td>200</td>\n      <td>2697</td>\n      <td>2596</td>\n      <td>False</td>\n    </tr>\n  </tbody>\n</table>\n</div>"
     },
     "metadata": {},
     "output_type": "execute_result",
     "execution_count": 12
    }
   ],
   "source": [
    "test_genetic = run_tests(knapsacks[:20], methods=[genetic], lim_sec=30, file_name='test_genetic')\n",
    "test_genetic[[\"Knapsack's ID\", 'Number of items', 'Optimal profit', 'Found profit', 'Passed']]"
   ],
   "metadata": {
    "collapsed": false,
    "pycharm": {
     "name": "#%%\n",
     "is_executing": false
    }
   }
  },
  {
   "cell_type": "markdown",
   "source": [
    "Genetic algorithm is also the heuristic.            \n",
    "It returned 14 exact answers out of 20. The other profits are very close to right solutions."
   ],
   "metadata": {
    "collapsed": false
   }
  },
  {
   "cell_type": "markdown",
   "source": [
    "### Comparison of the time statistic for all methods "
   ],
   "metadata": {
    "collapsed": false,
    "pycharm": {
     "name": "#%% md\n"
    }
   }
  },
  {
   "cell_type": "code",
   "execution_count": null,
   "outputs": [],
   "source": [
    "table_time = get_time(knapsacks, iters=3, lim_sec=90)"
   ],
   "metadata": {
    "collapsed": false,
    "pycharm": {
     "name": "#%%\n",
     "is_executing": true
    }
   }
  },
  {
   "cell_type": "markdown",
   "source": [
    "\n",
    "\n",
    "\n"
   ],
   "metadata": {
    "collapsed": false
   }
  }
 ],
 "metadata": {
  "kernelspec": {
   "display_name": "Python 3",
   "language": "python",
   "name": "python3"
  },
  "language_info": {
   "codemirror_mode": {
    "name": "ipython",
    "version": 2
   },
   "file_extension": ".py",
   "mimetype": "text/x-python",
   "name": "python",
   "nbconvert_exporter": "python",
   "pygments_lexer": "ipython2",
   "version": "2.7.6"
  },
  "pycharm": {
   "stem_cell": {
    "cell_type": "raw",
    "source": [],
    "metadata": {
     "collapsed": false
    }
   }
  }
 },
 "nbformat": 4,
 "nbformat_minor": 0
}